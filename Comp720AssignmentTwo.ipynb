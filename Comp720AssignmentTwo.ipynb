{
  "cells": [
    {
      "cell_type": "markdown",
      "metadata": {
        "id": "view-in-github",
        "colab_type": "text"
      },
      "source": [
        "<a href=\"https://colab.research.google.com/github/JamainePillay/COMP703_AI/blob/main/Comp720AssignmentTwo.ipynb\" target=\"_parent\"><img src=\"https://colab.research.google.com/assets/colab-badge.svg\" alt=\"Open In Colab\"/></a>"
      ]
    },
    {
      "cell_type": "code",
      "execution_count": null,
      "metadata": {
        "colab": {
          "base_uri": "https://localhost:8080/"
        },
        "id": "7UBMU934F2KE",
        "outputId": "3c4b7da5-9dfb-478f-81c4-526ff02e3cf0"
      },
      "outputs": [
        {
          "name": "stdout",
          "output_type": "stream",
          "text": [
            "Requirement already satisfied: tensorflow in /usr/local/lib/python3.11/dist-packages (2.18.0)\n",
            "Requirement already satisfied: absl-py>=1.0.0 in /usr/local/lib/python3.11/dist-packages (from tensorflow) (1.4.0)\n",
            "Requirement already satisfied: astunparse>=1.6.0 in /usr/local/lib/python3.11/dist-packages (from tensorflow) (1.6.3)\n",
            "Requirement already satisfied: flatbuffers>=24.3.25 in /usr/local/lib/python3.11/dist-packages (from tensorflow) (25.2.10)\n",
            "Requirement already satisfied: gast!=0.5.0,!=0.5.1,!=0.5.2,>=0.2.1 in /usr/local/lib/python3.11/dist-packages (from tensorflow) (0.6.0)\n",
            "Requirement already satisfied: google-pasta>=0.1.1 in /usr/local/lib/python3.11/dist-packages (from tensorflow) (0.2.0)\n",
            "Requirement already satisfied: libclang>=13.0.0 in /usr/local/lib/python3.11/dist-packages (from tensorflow) (18.1.1)\n",
            "Requirement already satisfied: opt-einsum>=2.3.2 in /usr/local/lib/python3.11/dist-packages (from tensorflow) (3.4.0)\n",
            "Requirement already satisfied: packaging in /usr/local/lib/python3.11/dist-packages (from tensorflow) (24.2)\n",
            "Requirement already satisfied: protobuf!=4.21.0,!=4.21.1,!=4.21.2,!=4.21.3,!=4.21.4,!=4.21.5,<6.0.0dev,>=3.20.3 in /usr/local/lib/python3.11/dist-packages (from tensorflow) (5.29.4)\n",
            "Requirement already satisfied: requests<3,>=2.21.0 in /usr/local/lib/python3.11/dist-packages (from tensorflow) (2.32.3)\n",
            "Requirement already satisfied: setuptools in /usr/local/lib/python3.11/dist-packages (from tensorflow) (75.2.0)\n",
            "Requirement already satisfied: six>=1.12.0 in /usr/local/lib/python3.11/dist-packages (from tensorflow) (1.17.0)\n",
            "Requirement already satisfied: termcolor>=1.1.0 in /usr/local/lib/python3.11/dist-packages (from tensorflow) (3.1.0)\n",
            "Requirement already satisfied: typing-extensions>=3.6.6 in /usr/local/lib/python3.11/dist-packages (from tensorflow) (4.13.2)\n",
            "Requirement already satisfied: wrapt>=1.11.0 in /usr/local/lib/python3.11/dist-packages (from tensorflow) (1.17.2)\n",
            "Requirement already satisfied: grpcio<2.0,>=1.24.3 in /usr/local/lib/python3.11/dist-packages (from tensorflow) (1.71.0)\n",
            "Requirement already satisfied: tensorboard<2.19,>=2.18 in /usr/local/lib/python3.11/dist-packages (from tensorflow) (2.18.0)\n",
            "Requirement already satisfied: keras>=3.5.0 in /usr/local/lib/python3.11/dist-packages (from tensorflow) (3.8.0)\n",
            "Requirement already satisfied: numpy<2.1.0,>=1.26.0 in /usr/local/lib/python3.11/dist-packages (from tensorflow) (2.0.2)\n",
            "Requirement already satisfied: h5py>=3.11.0 in /usr/local/lib/python3.11/dist-packages (from tensorflow) (3.13.0)\n",
            "Requirement already satisfied: ml-dtypes<0.5.0,>=0.4.0 in /usr/local/lib/python3.11/dist-packages (from tensorflow) (0.4.1)\n",
            "Requirement already satisfied: tensorflow-io-gcs-filesystem>=0.23.1 in /usr/local/lib/python3.11/dist-packages (from tensorflow) (0.37.1)\n",
            "Requirement already satisfied: wheel<1.0,>=0.23.0 in /usr/local/lib/python3.11/dist-packages (from astunparse>=1.6.0->tensorflow) (0.45.1)\n",
            "Requirement already satisfied: rich in /usr/local/lib/python3.11/dist-packages (from keras>=3.5.0->tensorflow) (13.9.4)\n",
            "Requirement already satisfied: namex in /usr/local/lib/python3.11/dist-packages (from keras>=3.5.0->tensorflow) (0.0.9)\n",
            "Requirement already satisfied: optree in /usr/local/lib/python3.11/dist-packages (from keras>=3.5.0->tensorflow) (0.15.0)\n",
            "Requirement already satisfied: charset-normalizer<4,>=2 in /usr/local/lib/python3.11/dist-packages (from requests<3,>=2.21.0->tensorflow) (3.4.1)\n",
            "Requirement already satisfied: idna<4,>=2.5 in /usr/local/lib/python3.11/dist-packages (from requests<3,>=2.21.0->tensorflow) (3.10)\n",
            "Requirement already satisfied: urllib3<3,>=1.21.1 in /usr/local/lib/python3.11/dist-packages (from requests<3,>=2.21.0->tensorflow) (2.4.0)\n",
            "Requirement already satisfied: certifi>=2017.4.17 in /usr/local/lib/python3.11/dist-packages (from requests<3,>=2.21.0->tensorflow) (2025.4.26)\n",
            "Requirement already satisfied: markdown>=2.6.8 in /usr/local/lib/python3.11/dist-packages (from tensorboard<2.19,>=2.18->tensorflow) (3.8)\n",
            "Requirement already satisfied: tensorboard-data-server<0.8.0,>=0.7.0 in /usr/local/lib/python3.11/dist-packages (from tensorboard<2.19,>=2.18->tensorflow) (0.7.2)\n",
            "Requirement already satisfied: werkzeug>=1.0.1 in /usr/local/lib/python3.11/dist-packages (from tensorboard<2.19,>=2.18->tensorflow) (3.1.3)\n",
            "Requirement already satisfied: MarkupSafe>=2.1.1 in /usr/local/lib/python3.11/dist-packages (from werkzeug>=1.0.1->tensorboard<2.19,>=2.18->tensorflow) (3.0.2)\n",
            "Requirement already satisfied: markdown-it-py>=2.2.0 in /usr/local/lib/python3.11/dist-packages (from rich->keras>=3.5.0->tensorflow) (3.0.0)\n",
            "Requirement already satisfied: pygments<3.0.0,>=2.13.0 in /usr/local/lib/python3.11/dist-packages (from rich->keras>=3.5.0->tensorflow) (2.19.1)\n",
            "Requirement already satisfied: mdurl~=0.1 in /usr/local/lib/python3.11/dist-packages (from markdown-it-py>=2.2.0->rich->keras>=3.5.0->tensorflow) (0.1.2)\n"
          ]
        }
      ],
      "source": [
        "#Jamaine Andrew Pillay\n",
        "#Student Number: 222019095\n",
        "!pip install tensorflow\n"
      ]
    },
    {
      "cell_type": "code",
      "execution_count": null,
      "metadata": {
        "colab": {
          "base_uri": "https://localhost:8080/"
        },
        "id": "lxeaomr3KGFY",
        "outputId": "0e8d45be-55ea-4099-9634-3da7f56989ca"
      },
      "outputs": [
        {
          "output_type": "stream",
          "name": "stdout",
          "text": [
            "\n",
            "Training LSTM\n",
            "Epoch 1/5\n",
            "800/800 - 152s - 191ms/step - accuracy: 0.7634 - loss: 0.4877 - val_accuracy: 0.7909 - val_loss: 0.4486\n",
            "Epoch 2/5\n",
            "800/800 - 145s - 182ms/step - accuracy: 0.8125 - loss: 0.4104 - val_accuracy: 0.7904 - val_loss: 0.4409\n",
            "Epoch 3/5\n",
            "800/800 - 203s - 253ms/step - accuracy: 0.8300 - loss: 0.3740 - val_accuracy: 0.7925 - val_loss: 0.4514\n",
            "Epoch 4/5\n",
            "800/800 - 193s - 241ms/step - accuracy: 0.8451 - loss: 0.3415 - val_accuracy: 0.7863 - val_loss: 0.4722\n",
            "\u001b[1m1000/1000\u001b[0m \u001b[32m━━━━━━━━━━━━━━━━━━━━\u001b[0m\u001b[37m\u001b[0m \u001b[1m21s\u001b[0m 21ms/step\n",
            "\n",
            "LSTM Evaluation Report:\n",
            "\n",
            "              precision    recall  f1-score   support\n",
            "\n",
            "    Negative       0.79      0.80      0.79     15878\n",
            "    Positive       0.80      0.79      0.79     16122\n",
            "\n",
            "    accuracy                           0.79     32000\n",
            "   macro avg       0.79      0.79      0.79     32000\n",
            "weighted avg       0.79      0.79      0.79     32000\n",
            "\n",
            "\n",
            "Training GRU\n",
            "Epoch 1/5\n",
            "800/800 - 178s - 222ms/step - accuracy: 0.7627 - loss: 0.4869 - val_accuracy: 0.7894 - val_loss: 0.4484\n",
            "Epoch 2/5\n",
            "800/800 - 162s - 202ms/step - accuracy: 0.8136 - loss: 0.4087 - val_accuracy: 0.7931 - val_loss: 0.4422\n",
            "Epoch 3/5\n",
            "800/800 - 214s - 268ms/step - accuracy: 0.8321 - loss: 0.3752 - val_accuracy: 0.7887 - val_loss: 0.4485\n",
            "Epoch 4/5\n",
            "800/800 - 207s - 259ms/step - accuracy: 0.8464 - loss: 0.3467 - val_accuracy: 0.7869 - val_loss: 0.4702\n",
            "\u001b[1m1000/1000\u001b[0m \u001b[32m━━━━━━━━━━━━━━━━━━━━\u001b[0m\u001b[37m\u001b[0m \u001b[1m15s\u001b[0m 15ms/step\n",
            "\n",
            "GRU Evaluation Report:\n",
            "\n",
            "              precision    recall  f1-score   support\n",
            "\n",
            "    Negative       0.78      0.82      0.80     15878\n",
            "    Positive       0.82      0.77      0.79     16122\n",
            "\n",
            "    accuracy                           0.80     32000\n",
            "   macro avg       0.80      0.80      0.80     32000\n",
            "weighted avg       0.80      0.80      0.80     32000\n",
            "\n"
          ]
        }
      ],
      "source": [
        "import pandas as pd\n",
        "import numpy as np\n",
        "from sklearn.model_selection import train_test_split\n",
        "from sklearn.metrics import classification_report\n",
        "from tensorflow.keras.preprocessing.text import Tokenizer\n",
        "from tensorflow.keras.preprocessing.sequence import pad_sequences\n",
        "from tensorflow.keras.models import Sequential\n",
        "from tensorflow.keras.layers import Embedding, LSTM, GRU, Dense\n",
        "from tensorflow.keras.callbacks import EarlyStopping\n",
        "\n",
        "\n",
        "# 1.Data Preprocessing\n",
        "file_path = '/content/sentiment_dataset.csv'\n",
        "df = pd.read_csv(file_path, encoding='ISO-8859-1', on_bad_lines='skip', engine='python', header=None)\n",
        "df = df[[0, 5]]\n",
        "df.columns = ['sentiment', 'text']\n",
        "\n",
        "df = df[df['sentiment'].isin([0, 4])]\n",
        "df['sentiment'] = df['sentiment'].map({0: 0, 4: 1})\n",
        "\n",
        "# Use only 10% of data\n",
        "df = df.sample(frac=0.1, random_state=42)\n",
        "\n",
        "# Train-test split\n",
        "X = df['text'].values\n",
        "y = df['sentiment'].values\n",
        "X_train, X_test, y_train, y_test = train_test_split(X, y, test_size=0.2, random_state=42)\n",
        "\n",
        "# Tokenization and padding\n",
        "vocab_size = 10000\n",
        "max_length = 100\n",
        "tokenizer = Tokenizer(num_words=vocab_size, oov_token='<OOV>')\n",
        "tokenizer.fit_on_texts(X_train)\n",
        "X_train_seq = pad_sequences(tokenizer.texts_to_sequences(X_train), maxlen=max_length)\n",
        "X_test_seq = pad_sequences(tokenizer.texts_to_sequences(X_test), maxlen=max_length)\n",
        "\n",
        "# 2.Model Architectures and Training\n",
        "def build_model(model_type='LSTM'):\n",
        "    model = Sequential()\n",
        "    model.add(Embedding(input_dim=vocab_size, output_dim=64))\n",
        "    if model_type == 'LSTM':\n",
        "        model.add(LSTM(64))\n",
        "    elif model_type == 'GRU':\n",
        "        model.add(GRU(64))\n",
        "    model.add(Dense(1, activation='sigmoid'))\n",
        "    model.compile(loss='binary_crossentropy', optimizer='adam', metrics=['accuracy'])\n",
        "    return model\n",
        "\n",
        "early_stop = EarlyStopping(monitor='val_loss', patience=2, restore_best_weights=True)\n",
        "\n",
        "# Train LSTM\n",
        "print(\"\\nTraining LSTM\")\n",
        "lstm_model = build_model('LSTM')\n",
        "lstm_model.fit(X_train_seq, y_train, validation_split=0.2, epochs=5, batch_size=128, callbacks=[early_stop], verbose=2)\n",
        "\n",
        "# Evaluate LSTM\n",
        "y_pred_lstm = (lstm_model.predict(X_test_seq) > 0.5).astype('int32')\n",
        "print(\"\\nLSTM Evaluation Report:\\n\")\n",
        "print(classification_report(y_test, y_pred_lstm, labels=[0, 1], target_names=['Negative', 'Positive'], zero_division=0))\n",
        "\n",
        "# Train GRU\n",
        "print(\"\\nTraining GRU\")\n",
        "gru_model = build_model('GRU')\n",
        "gru_model.fit(X_train_seq, y_train, validation_split=0.2, epochs=5, batch_size=128, callbacks=[early_stop], verbose=2)\n",
        "\n",
        "# Evaluate GRU\n",
        "y_pred_gru = (gru_model.predict(X_test_seq) > 0.5).astype('int32')\n",
        "print(\"\\nGRU Evaluation Report:\\n\")\n",
        "print(classification_report(y_test, y_pred_gru, labels=[0, 1], target_names=['Negative', 'Positive'], zero_division=0))\n"
      ]
    }
  ],
  "metadata": {
    "colab": {
      "provenance": [],
      "authorship_tag": "ABX9TyN4K2bWMCOOloaA4yki2Alw",
      "include_colab_link": true
    },
    "kernelspec": {
      "display_name": "Python 3",
      "name": "python3"
    },
    "language_info": {
      "name": "python"
    }
  },
  "nbformat": 4,
  "nbformat_minor": 0
}